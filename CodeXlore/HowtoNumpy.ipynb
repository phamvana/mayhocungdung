{
 "cells": [
  {
   "cell_type": "markdown",
   "id": "bc5dec7a",
   "metadata": {},
   "source": [
    "### thêm thư viện numpy"
   ]
  },
  {
   "cell_type": "code",
   "execution_count": 1,
   "id": "211beaf6",
   "metadata": {},
   "outputs": [],
   "source": [
    "import numpy as np"
   ]
  },
  {
   "cell_type": "markdown",
   "id": "3db80523",
   "metadata": {},
   "source": [
    "### Tạo numpy array từ Python List"
   ]
  },
  {
   "cell_type": "code",
   "execution_count": 2,
   "id": "69716c6b",
   "metadata": {},
   "outputs": [
    {
     "data": {
      "text/plain": [
       "array([1, 2, 3, 4])"
      ]
     },
     "execution_count": 2,
     "metadata": {},
     "output_type": "execute_result"
    }
   ],
   "source": [
    "np.array([1,2,3,4])"
   ]
  },
  {
   "cell_type": "code",
   "execution_count": 3,
   "id": "9db78ccf",
   "metadata": {},
   "outputs": [
    {
     "data": {
      "text/plain": [
       "[3.12, 3, 4, 2]"
      ]
     },
     "execution_count": 3,
     "metadata": {},
     "output_type": "execute_result"
    }
   ],
   "source": [
    "[3.12,3,4,2]"
   ]
  }
 ],
 "metadata": {
  "kernelspec": {
   "display_name": "Python 3 (ipykernel)",
   "language": "python",
   "name": "python3"
  },
  "language_info": {
   "codemirror_mode": {
    "name": "ipython",
    "version": 3
   },
   "file_extension": ".py",
   "mimetype": "text/x-python",
   "name": "python",
   "nbconvert_exporter": "python",
   "pygments_lexer": "ipython3",
   "version": "3.10.9"
  }
 },
 "nbformat": 4,
 "nbformat_minor": 5
}
