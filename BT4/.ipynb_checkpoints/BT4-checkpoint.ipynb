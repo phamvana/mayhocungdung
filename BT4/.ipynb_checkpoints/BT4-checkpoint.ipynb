{
 "cells": [
  {
   "cell_type": "markdown",
   "id": "c3772301",
   "metadata": {},
   "source": [
    "# Thêm thư viện"
   ]
  },
  {
   "cell_type": "code",
   "execution_count": 2,
   "id": "8a8604c3",
   "metadata": {},
   "outputs": [],
   "source": [
    "import pandas as pd\n",
    "#đọc dữ liệu từ csv\n",
    "import pandas as  pd\n",
    "import matplotlib.pyplot as plt\n",
    "import numpy as np\n",
    "\n",
    "from sklearn import linear_model\n"
   ]
  },
  {
   "cell_type": "markdown",
   "id": "8dcf6a02",
   "metadata": {},
   "source": [
    "# Đọc file dữ liệu"
   ]
  },
  {
   "cell_type": "code",
   "execution_count": 4,
   "id": "b303ac7b",
   "metadata": {},
   "outputs": [],
   "source": [
    "dt = pd.read_csv(\"Housing_2019.csv\", index_col=0)\n"
   ]
  },
  {
   "cell_type": "markdown",
   "id": "eb19d04d",
   "metadata": {},
   "source": [
    "### Kiểm tra dữ liệu"
   ]
  },
  {
   "cell_type": "code",
   "execution_count": 5,
   "id": "8467fca0",
   "metadata": {},
   "outputs": [
    {
     "name": "stdout",
     "output_type": "stream",
     "text": [
      "     price  lotsize  bedrooms  bathrms  stories driveway recroom fullbase  \\\n",
      "1  42000.0     5850         3        1        2      yes      no      yes   \n",
      "2  38500.0     4000         2        1        1      yes      no       no   \n",
      "3  49500.0     3060         3        1        1      yes      no       no   \n",
      "4  60500.0     6650         3        1        2      yes     yes       no   \n",
      "5  61000.0     6360         2        1        1      yes      no       no   \n",
      "\n",
      "  gashw airco  garagepl prefarea  \n",
      "1    no    no         1       no  \n",
      "2    no    no         0       no  \n",
      "3    no    no         0       no  \n",
      "4    no    no         0       no  \n",
      "5    no    no         0       no  \n"
     ]
    }
   ],
   "source": [
    "dt.iloc[2:4,]\n",
    "print(dt.head(5))\n",
    "\n"
   ]
  },
  {
   "cell_type": "markdown",
   "id": "e1fe0278",
   "metadata": {},
   "source": [
    "### Giá trị X từ các cột lotsize,bedrooms,bathrms,stories,garagepl"
   ]
  },
  {
   "cell_type": "code",
   "execution_count": 8,
   "id": "90940026",
   "metadata": {},
   "outputs": [
    {
     "name": "stdout",
     "output_type": "stream",
     "text": [
      "     lotsize  bedrooms  bathrms  stories  garagepl\n",
      "1       5850         3        1        2         1\n",
      "2       4000         2        1        1         0\n",
      "3       3060         3        1        1         0\n",
      "4       6650         3        1        2         0\n",
      "5       6360         2        1        1         0\n",
      "..       ...       ...      ...      ...       ...\n",
      "542     4800         3        2        4         0\n",
      "543     6000         3        2        4         0\n",
      "544     6000         3        2        4         1\n",
      "545     6000         3        2        2         1\n",
      "546     6000         3        1        2         1\n",
      "\n",
      "[546 rows x 5 columns]\n"
     ]
    }
   ],
   "source": [
    "X=dt.iloc[:,[1,2,3,4,10]]\n",
    "print(X)"
   ]
  },
  {
   "cell_type": "markdown",
   "id": "93699c09",
   "metadata": {},
   "source": [
    "### Kiểm tra dữ liệu X"
   ]
  },
  {
   "cell_type": "code",
   "execution_count": 9,
   "id": "8d6032c8",
   "metadata": {},
   "outputs": [
    {
     "name": "stdout",
     "output_type": "stream",
     "text": [
      "     lotsize  bedrooms  bathrms  stories  garagepl\n",
      "1       5850         3        1        2         1\n",
      "2       4000         2        1        1         0\n",
      "3       3060         3        1        1         0\n",
      "4       6650         3        1        2         0\n",
      "5       6360         2        1        1         0\n",
      "..       ...       ...      ...      ...       ...\n",
      "542     4800         3        2        4         0\n",
      "543     6000         3        2        4         0\n",
      "544     6000         3        2        4         1\n",
      "545     6000         3        2        2         1\n",
      "546     6000         3        1        2         1\n",
      "\n",
      "[546 rows x 5 columns]\n"
     ]
    }
   ],
   "source": [
    "X.iloc[1:5,]\n",
    "print(X)"
   ]
  },
  {
   "cell_type": "markdown",
   "id": "88f762dd",
   "metadata": {},
   "source": [
    "### Gán giá trị của Y & kiểm tra Y"
   ]
  },
  {
   "cell_type": "code",
   "execution_count": 10,
   "id": "62815a6c",
   "metadata": {},
   "outputs": [
    {
     "name": "stdout",
     "output_type": "stream",
     "text": [
      "1       42000.0\n",
      "2       38500.0\n",
      "3       49500.0\n",
      "4       60500.0\n",
      "5       61000.0\n",
      "         ...   \n",
      "542     91500.0\n",
      "543     94000.0\n",
      "544    103000.0\n",
      "545    105000.0\n",
      "546    105000.0\n",
      "Name: price, Length: 546, dtype: float64\n"
     ]
    }
   ],
   "source": [
    "Y = dt.price\n",
    "print(Y)"
   ]
  },
  {
   "cell_type": "markdown",
   "id": "283011d4",
   "metadata": {},
   "source": [
    "### In biểu đồ trực quan"
   ]
  },
  {
   "cell_type": "code",
   "execution_count": 12,
   "id": "fbe417e0",
   "metadata": {},
   "outputs": [
    {
     "data": {
      "image/png": "[encoded data removed]",
      "text/plain": [
       "<Figure size 640x480 with 1 Axes>"
      ]
     },
     "metadata": {},
     "output_type": "display_data"
    }
   ],
   "source": [
    "plt.title(\" Biểu đồ tương quan giá nhà và diện tích\")\n",
    "plt.ylabel(\"Giá nhà\")\n",
    "plt.xlabel(\"Diện tích\")\n",
    "plt.scatter(dt.lotsize, dt.price, c=\"red\")\n",
    "plt.show()"
   ]
  },
  {
   "cell_type": "markdown",
   "id": "377108b1",
   "metadata": {},
   "source": [
    "### Huấn luyện mô hình"
   ]
  },
  {
   "cell_type": "code",
   "execution_count": 13,
   "id": "2d0b9d1a",
   "metadata": {},
   "outputs": [
    {
     "name": "stdout",
     "output_type": "stream",
     "text": [
      "-2491.446\n",
      "[4.82266765e+00 2.52678232e+03 1.65410681e+04 7.36009997e+03\n",
      " 5.16769575e+03]\n"
     ]
    }
   ],
   "source": [
    "lm = linear_model.LinearRegression()\n",
    "lm.fit(X[1:520],Y[1:520])\n",
    "print(round(lm.intercept_,3))\n",
    "print(lm.coef_)"
   ]
  },
  {
   "cell_type": "markdown",
   "id": "8b74b122",
   "metadata": {},
   "source": [
    "### Dự báo giá nhà cho 20 phần tử cuối cùng trong tập dữ liệu"
   ]
  },
  {
   "cell_type": "code",
   "execution_count": 14,
   "id": "e15303ab",
   "metadata": {},
   "outputs": [],
   "source": [
    "y = dt.price\n",
    "y_test =Y[-20:]\n",
    "x_test=X[-20:]\n",
    "y_pred = lm.predict(x_test)"
   ]
  },
  {
   "cell_type": "markdown",
   "id": "996f45be",
   "metadata": {},
   "source": [
    "### So sánh giá trị dự báo và giá trị thực tế"
   ]
  },
  {
   "cell_type": "code",
   "execution_count": 15,
   "id": "9455d6f9",
   "metadata": {},
   "outputs": [
    {
     "name": "stdout",
     "output_type": "stream",
     "text": [
      "Y_pred [102783.56717938  86741.43780532 101715.13892973  89187.34320822\n",
      "  90341.766572    95164.43422345 101537.87346273  66057.09282124\n",
      "  67823.60744563  95582.90964604  96547.44317633  66859.07391534\n",
      "  91598.67703395  90719.94686085 104247.03944674  90760.24199458\n",
      "  96547.44317633 101715.13892973  86994.93899351  70453.87088238]\n",
      "y_test:  527    105000.0\n",
      "528    106000.0\n",
      "529    107500.0\n",
      "530    108000.0\n",
      "531    113750.0\n",
      "532    120000.0\n",
      "533     70000.0\n",
      "534     71000.0\n",
      "535     82000.0\n",
      "536     82000.0\n",
      "537     82500.0\n",
      "538     83000.0\n",
      "539     84000.0\n",
      "540     85000.0\n",
      "541     85000.0\n",
      "542     91500.0\n",
      "543     94000.0\n",
      "544    103000.0\n",
      "545    105000.0\n",
      "546    105000.0\n",
      "Name: price, dtype: float64\n"
     ]
    }
   ],
   "source": [
    "print(\"Y_pred\",y_pred)\n",
    "print(\"y_test: \",y_test)\n"
   ]
  },
  {
   "cell_type": "markdown",
   "id": "6b4defca",
   "metadata": {},
   "source": [
    "### Đánh giá"
   ]
  },
  {
   "cell_type": "code",
   "execution_count": 18,
   "id": "35d0a009",
   "metadata": {},
   "outputs": [
    {
     "name": "stdout",
     "output_type": "stream",
     "text": [
      "Chỉ số MSE:  288877136.084\n",
      "Chỉ số RMSE:  16996.385971252897\n"
     ]
    }
   ],
   "source": [
    "from sklearn.metrics import mean_squared_error\n",
    "err = mean_squared_error(y_test,y_pred)\n",
    "print(\"Chỉ số MSE: \",round(err,3))\n",
    "print(\"Chỉ số RMSE: \",np.sqrt(err))"
   ]
  }
 ],
 "metadata": {
  "kernelspec": {
   "display_name": "Python 3 (ipykernel)",
   "language": "python",
   "name": "python3"
  },
  "language_info": {
   "codemirror_mode": {
    "name": "ipython",
    "version": 3
   },
   "file_extension": ".py",
   "mimetype": "text/x-python",
   "name": "python",
   "nbconvert_exporter": "python",
   "pygments_lexer": "ipython3",
   "version": "3.10.9"
  }
 },
 "nbformat": 4,
 "nbformat_minor": 5
}
